{
 "cells": [
  {
   "cell_type": "markdown",
   "metadata": {},
   "source": [
    "# **필요한 라이브러리 불러오기**"
   ]
  },
  {
   "cell_type": "code",
   "execution_count": 104,
   "metadata": {},
   "outputs": [],
   "source": [
    "import pandas as pd\n",
    "import time\n",
    "import requests\n",
    "from tqdm import tqdm\n",
    "from selenium.webdriver.common.keys import Keys\n",
    "from selenium.webdriver.common.action_chains import ActionChains\n",
    "from selenium import webdriver\n",
    "from selenium.webdriver.chrome.service import Service\n",
    "from selenium.webdriver.common.by import By"
   ]
  },
  {
   "cell_type": "markdown",
   "metadata": {},
   "source": [
    "# **기본 데이터 수집**"
   ]
  },
  {
   "cell_type": "markdown",
   "metadata": {},
   "source": [
    "## **2019 - 2021년 기관별 기본정보 및 손익계산서**\n",
    "* 한국보건산업진흥원의 의료기관 회계공시 데이터를 웹 스크랩핑함"
   ]
  },
  {
   "cell_type": "code",
   "execution_count": null,
   "metadata": {},
   "outputs": [],
   "source": [
    "# 전체 데이터를 담을 빈 리스트 생성\n",
    "data = []\n",
    "\n",
    "for item in [[2021, 29, 285], [2020, 29, 282], [2019, 28, 275]]:\n",
    "    \n",
    "    # 연도별 마지막 페이지 및 마지막 순번 지정\n",
    "    year = item[0]\n",
    "    last_page = item[1]\n",
    "    last_num = item[2]\n",
    "\n",
    "    # 마지막 순번에서 멈출 조건 지정\n",
    "    break_condition = False\n",
    "\n",
    "    for page in range(1, last_page + 1):\n",
    "\n",
    "        # 페이지 순서대로 열기\n",
    "        url = 'https://haspa.khidi.or.kr/total-public-inq?p={}&y={}&hn=&bn=&en=&a1=&a2='.format(page, year)\n",
    "        service = Service('./driver/chromedriver.exe')\n",
    "        driver = webdriver.Chrome(service = service)\n",
    "        actions = ActionChains(driver)\n",
    "        driver.get(url)\n",
    "\n",
    "        for i in range(2, 12):\n",
    "\n",
    "            # 개별 기관의 정보를 담을 리스트 생성 (연도 정보만 담음)\n",
    "            tmp = [year]\n",
    "            \n",
    "            # 기본정보 가져오기\n",
    "            number = int(driver.find_element(By.XPATH, '//*[@id=\"content_data\"]/div[2]/div[' + str(i) + ']/div[1]').text)\n",
    "            time.sleep(0.2)\n",
    "            name = driver.find_element(By.XPATH, '//*[@id=\"content_data\"]/div[2]/div[' + str(i) + ']/div[3]/span').text\n",
    "            time.sleep(0.2)\n",
    "            num_of_beds = int(driver.find_element(By.XPATH, '//*[@id=\"content_data\"]/div[2]/div[' + str(i) + ']/div[4]').text)\n",
    "            time.sleep(0.2)\n",
    "            tertiary = driver.find_element(By.XPATH, '//*[@id=\"content_data\"]/div[2]/div[' + str(i) + ']/div[6]').text\n",
    "            time.sleep(0.2)\n",
    "            incor_type = driver.find_element(By.XPATH, '//*[@id=\"content_data\"]/div[2]/div[' + str(i) + ']/div[7]').text\n",
    "            time.sleep(0.2)\n",
    "\n",
    "            # 기본정보 가져와서 tmp에 담기\n",
    "            for info in [number, name, num_of_beds, tertiary, incor_type]:\n",
    "                tmp.append(info)\n",
    "\n",
    "            # 손익계산서 창 열기 버튼 XPATH 정의\n",
    "            inc_st = '//*[@id=\"content_data\"]/div[2]/div['+ str(i) +']/div[10]'\n",
    "            \n",
    "            # 손익계산서 창 열기\n",
    "            inc_st_button = driver.find_element(By.XPATH, inc_st)\n",
    "            inc_st_button.click()\n",
    "            time.sleep(3)\n",
    "\n",
    "            # 기관별 주소 정보 가져와서 tmp에 담기\n",
    "            tmp.append(driver.find_element(By.XPATH, '//*[@id=\"is-addr\"]').text)\n",
    "\n",
    "            # 손익계산서 숫자 가져와서 tmp에 담기\n",
    "            table = driver.find_element(By.XPATH, '//*[@id=\"isTable\"]')\n",
    "            tbody = table.find_element(By.TAG_NAME, 'tbody')\n",
    "            rows = tbody.find_elements(By.TAG_NAME, 'tr')\n",
    "                    \n",
    "            for value in rows:\n",
    "                actions.move_to_element(value).perform()\n",
    "                body = value.find_elements(By.TAG_NAME, 'td')[1]\n",
    "                tmp.append(body.text.replace(',', ''))\n",
    "                time.sleep(0.2)\n",
    "            \n",
    "            # 숫자 모두 가져왔으면 손익계산서 창 닫기\n",
    "            out_button = driver.find_element(By.XPATH, '//*[@id=\"is-modal\"]/div/div/div[1]/div[1]/button')\n",
    "            actions.move_to_element(out_button).perform()\n",
    "            out_button.send_keys(Keys.ENTER)\n",
    "\n",
    "            # tmp에 담은 기관별 데이터 전체 데이터 리스트에 담기\n",
    "            data.append(tmp)\n",
    "\n",
    "            # 마지막 순번이 되면 해당 연도 Loop 종료\n",
    "            if number == last_num:\n",
    "                break_condition = True\n",
    "                break\n",
    "        \n",
    "        # 웹드라이버 종료\n",
    "        driver.quit()\n",
    "        time.sleep(2)\n",
    "\n",
    "        # 마지막 순번이 되면 해당 연도 Loop 종료\n",
    "        if break_condition == True:\n",
    "            break\n",
    "\n",
    "before_process = pd.DataFrame(data)\n",
    "before_process.to_excel('./before_process.xlsx')"
   ]
  },
  {
   "cell_type": "markdown",
   "metadata": {},
   "source": [
    "## **손익계산서 계정명**"
   ]
  },
  {
   "cell_type": "code",
   "execution_count": null,
   "metadata": {},
   "outputs": [],
   "source": [
    "# 컬럼명을 저장할 빈 리스트 저장하기\n",
    "column_names = []\n",
    "\n",
    "# 컬럼명을 불러올 샘플 페이지 열기\n",
    "url = 'https://haspa.khidi.or.kr/total-public-inq?p={}&y={}&hn=&bn=&en=&a1=&a2='.format(1, 2021)\n",
    "service = Service('./driver/chromedriver.exe')\n",
    "driver = webdriver.Chrome(service = service)\n",
    "actions = ActionChains(driver)\n",
    "driver.get(url)\n",
    "\n",
    "# 손익계산서 창 열기 버튼 XPATH 정의\n",
    "inc_st = '//*[@id=\"content_data\"]/div[2]/div['+ str(2) +']/div[10]'\n",
    "\n",
    "# 손익계산서 창 열기\n",
    "inc_st_button = driver.find_element(By.XPATH, inc_st)\n",
    "inc_st_button.click()\n",
    "time.sleep(3)\n",
    "\n",
    "# 손익계산서 계정명 가져오기\n",
    "table = driver.find_element(By.XPATH, '//*[@id=\"isTable\"]')\n",
    "tbody = table.find_element(By.TAG_NAME, 'tbody')\n",
    "rows = tbody.find_elements(By.TAG_NAME, 'tr')\n",
    "\n",
    "for value in rows:\n",
    "    actions.move_to_element(value).perform()\n",
    "    body = value.find_elements(By.TAG_NAME, 'td')[0]\n",
    "    column_names.append(body.text.replace(' ', ''))\n",
    "    time.sleep(0.2)\n",
    "\n",
    "# 웹드라이버 종료\n",
    "driver.quit()\n",
    "time.sleep(2)\n",
    "\n",
    "# 컬럼명 리스트 지정\n",
    "column_names = ['연도', '순번', '기관명', '병상수', '종별', '설립형태', '주소'] + column_names\n",
    "\n",
    "# 저장된 컬럼명 데이터 프레임에 반영\n",
    "before_process.columns = column_names\n",
    "\n",
    "# 필요하지 않은 '순번' 컬럼은 삭제\n",
    "tmp = before_process.columns.tolist()\n",
    "tmp.remove('순번')\n",
    "before_process = before_process[tmp]"
   ]
  },
  {
   "cell_type": "markdown",
   "metadata": {},
   "source": [
    "# **전처리**"
   ]
  },
  {
   "cell_type": "markdown",
   "metadata": {},
   "source": [
    "## **도로명 주소만 남기기**\n",
    "* 가져온 주소는 도로명 주소 이외의 정보도 담겨 있음\n",
    "* 주소 데이터로 각 병원의 경도 및 위도를 확보하기 위해 도로명 주소만 남기고자 함"
   ]
  },
  {
   "cell_type": "code",
   "execution_count": null,
   "metadata": {},
   "outputs": [],
   "source": [
    "for idx in range(before_process.shape[0]):\n",
    "    before_process.loc[idx, '주소'] = before_process.loc[idx, '주소'].split(')')[0].rstrip()"
   ]
  },
  {
   "cell_type": "markdown",
   "metadata": {},
   "source": [
    "## **결측치가 존재하는지 확인하기**"
   ]
  },
  {
   "cell_type": "code",
   "execution_count": null,
   "metadata": {},
   "outputs": [
    {
     "name": "stdout",
     "output_type": "stream",
     "text": [
      "결측치가 존재하지 않습니다.\n"
     ]
    }
   ],
   "source": [
    "null_condition = 0\n",
    "\n",
    "for column in before_process.columns.tolist():\n",
    "    null_condition += sum(before_process.isnull()[column])\n",
    "\n",
    "if null_condition == 0:\n",
    "    print('결측치가 존재하지 않습니다.')\n",
    "else:\n",
    "    print('결측치가 존재합니다.')\n",
    "\n",
    "# 전처리된 데이터 중간 저장\n",
    "before_process.to_excel('./after_process.xlsx')"
   ]
  },
  {
   "cell_type": "markdown",
   "metadata": {},
   "source": [
    "## **세목을 제외한 데이터만 남기기**\n",
    "* 의료기관 회계기준 규칙에 규정된 손익계산서의 계정과목은 100개가 넘음\n",
    "* 그 중 세목을 제외한 상위 계정과목 50여개만을 남겨 분석에 활용하고자 함\n",
    "* 상위 계정과 하위 계정 간의 관계를 바로 파악할 수 있도록 컬럼명을 수정함\n",
    "    * 수정 전 : Ⅳ.의료외수익 - 1.의료부대수익\n",
    "    * 수정 후 : Ⅳ.의료외수익 - Ⅳ-1.의료부대수익"
   ]
  },
  {
   "cell_type": "code",
   "execution_count": null,
   "metadata": {},
   "outputs": [],
   "source": [
    "# 1차 전처리된 데이터 읽어오기\n",
    "after_process = pd.read_excel('./after_process.xlsx', index_col = 0)\n",
    "\n",
    "# 세목을 제외한 상위 계정과목을 데이터 프레임에 남기기\n",
    "target_columns = ['연도', '기관명', '병상수', '종별', '설립형태', '주소',\n",
    "                  'Ⅰ.의료수익', '1.입원수익', '2.외래수익', '3.기타의료수익',\n",
    "                  'Ⅱ.의료비용', '1.인건비', '2.재료비', '3.관리운영비', '4.기타의료비용',\n",
    "                  'Ⅲ.의료이익(손실)',\n",
    "                  'Ⅳ.의료외수익', '1.의료부대수익', '2.이자수익', '3.배당금수익', '4.임대료수익', \n",
    "                                  '5.단기매매증권처분이익', '6.단기매매증권평가이익', '7.연구수익', \n",
    "                                  '8.외환차익', '9.외화환산이익', '10.투자자산처분이익', '11.유형자산처분이익', \n",
    "                                  '12.대손충당금환입', '13.기부금수익', '14.잡이익', '15.자산수증이익', \n",
    "                                  '16.채무면제이익', '17.보험차익', '18.기타의료외수익',\n",
    "                  'Ⅴ.의료외비용', '1.의료부대비용', '2.이자비용', '3.기타대손상각비', '4.기부금', \n",
    "                                  '5.단기매매증권처분손실', '6.단기매매증권평가손실', '7.연구비용',\n",
    "                                  '8.외환차손', '9.외화환산손실', '10.투자자산처분손실', '11.유형자산처분손실',\n",
    "                                  '12.고유목적사업비', '13.잡손실', '14.재해손실', '15.기타의료외비용',\n",
    "                  'Ⅵ.법인세차감전순이익(순손실)', 'Ⅶ.법인세비용(소득세)', 'Ⅷ.고유목적사업준비금설정전당기순이익',\n",
    "                  'Ⅸ.고유목적사업준비금전입액¹', 'Ⅹ.고유목적사업준비금환입액¹', '당기순이익(순손실)']\n",
    "target_data = after_process[target_columns]\n",
    "\n",
    "# 컬럼명 수정하여 상위 계정과 하위 계정간의 관계를 알 수 있도록 함 \n",
    "target_columns = ['연도', '기관명', '병상수', '종별', '설립형태', '주소',\n",
    "                  'Ⅰ.의료수익', 'Ⅰ-1.입원수익', 'Ⅰ-2.외래수익', 'Ⅰ-3.기타의료수익',\n",
    "                  'Ⅱ.의료비용', 'Ⅱ-1.인건비', 'Ⅱ-2.재료비', 'Ⅱ-3.관리운영비', 'Ⅱ-4.기타의료비용',\n",
    "                  'Ⅲ.의료이익(손실)',\n",
    "                  'Ⅳ.의료외수익', 'Ⅳ-1.의료부대수익', 'Ⅳ-2.이자수익', 'Ⅳ-3.배당금수익', 'Ⅳ-4.임대료수익', \n",
    "                                  'Ⅳ-5.단기매매증권처분이익', 'Ⅳ-6.단기매매증권평가이익', 'Ⅳ-7.연구수익', \n",
    "                                  'Ⅳ-8.외환차익', 'Ⅳ-9.외화환산이익', 'Ⅳ-10.투자자산처분이익', 'Ⅳ-11.유형자산처분이익', \n",
    "                                  'Ⅳ-12.대손충당금환입', 'Ⅳ-13.기부금수익', 'Ⅳ-14.잡이익', 'Ⅳ-15.자산수증이익', \n",
    "                                  'Ⅳ-16.채무면제이익', 'Ⅳ-17.보험차익', 'Ⅳ-18.기타의료외수익',\n",
    "                  'Ⅴ.의료외비용', 'Ⅴ-1.의료부대비용', 'Ⅴ-2.이자비용', 'Ⅴ-3.기타대손상각비', 'Ⅴ-4.기부금', \n",
    "                                  'Ⅴ-5.단기매매증권처분손실', 'Ⅴ-6.단기매매증권평가손실', 'Ⅴ-7.연구비용',\n",
    "                                  'Ⅴ-8.외환차손', 'Ⅴ-9.외화환산손실', 'Ⅴ-10.투자자산처분손실', 'Ⅴ-11.유형자산처분손실',\n",
    "                                  'Ⅴ-12.고유목적사업비', 'Ⅴ-13.잡손실', 'Ⅴ-14.재해손실', 'Ⅴ-15.기타의료외비용',\n",
    "                  'Ⅵ.법인세차감전순이익(순손실)', 'Ⅶ.법인세비용(소득세)', 'Ⅷ.고유목적사업준비금설정전당기순이익',\n",
    "                  'Ⅸ.고유목적사업준비금전입액¹', 'Ⅹ.고유목적사업준비금환입액¹', '당기순이익(순손실)']\n",
    "\n",
    "target_data.columns = target_columns"
   ]
  },
  {
   "cell_type": "markdown",
   "metadata": {},
   "source": [
    "## **동일한 주소의 기관명이 연도별로 다른 경우 최근 기준으로 통일**"
   ]
  },
  {
   "cell_type": "code",
   "execution_count": 185,
   "metadata": {},
   "outputs": [
    {
     "name": "stdout",
     "output_type": "stream",
     "text": [
      "경기도 시흥시 군자천로 381의 기관명을 확인해주시기 바랍니다\n",
      "기관명 :  ['의료법인 남촌의료재단 시화병원', '의료법인 남촌의료재단 시흥시화병원'] \n",
      "\n",
      "경상남도 양산시 신기로 28의 기관명을 확인해주시기 바랍니다\n",
      "기관명 :  ['베데스다복음병원', '베데스다병원', '베데스다병원'] \n",
      "\n",
      "충청북도 진천군 진천읍 중앙북로 24의 기관명을 확인해주시기 바랍니다\n",
      "기관명 :  ['의료법인 건명의료재단 중앙제일병원', '의료법인 건명의료재단 진천성모병원', '의료법인 건명의료재단 진천성모병원'] \n",
      "\n",
      "경상남도 김해시 장유로 167-13의 기관명을 확인해주시기 바랍니다\n",
      "기관명 :  ['의료법인갑을의료재단 갑을장유병원', '의료법인갑을의료재단갑을장유병원', '의료법인갑을의료재단갑을장유병원'] \n",
      "\n",
      "경상남도 창원시 성산구 삼정자로 11의 기관명을 확인해주시기 바랍니다\n",
      "기관명 :  ['창원경상국립대학교병원', '창원경상대학교병원', '창원경상대학교병원'] \n",
      "\n",
      "경상북도 경산시 경안로 11의 기관명을 확인해주시기 바랍니다\n",
      "기관명 :  ['의료법인 근원의료재단 경산중앙병원', '의)근원의료재단경산중앙병원', '의)근원의료재단경산중앙병원'] \n",
      "\n",
      "세종특별자치시 한누리대로 161의 기관명을 확인해주시기 바랍니다\n",
      "기관명 :  ['의료법인 영제 의료재단 엔케이세종병원', '엔케이(NK)세종병원'] \n",
      "\n",
      "부산광역시 부산진구 가야대로 721의 기관명을 확인해주시기 바랍니다\n",
      "기관명 :  ['의료법인 온그룹의료재단 온종합병원', '의료법인정선의료재단 온종합병원', '의료법인정선의료재단 온종합병원'] \n",
      "\n",
      "경상남도 진주시 강남로 79의 기관명을 확인해주시기 바랍니다\n",
      "기관명 :  ['경상국립대학교병원', '경상대학교병원', '경상대학교병원'] \n",
      "\n",
      "경기도 군포시 산본로 321의 기관명을 확인해주시기 바랍니다\n",
      "기관명 :  ['원광대학교 산본병원', '원광대학교의과대학산본병원', '원광대학교의과대학산본병원'] \n",
      "\n",
      "인천광역시 서구 칠천왕로33번길 17의 기관명을 확인해주시기 바랍니다\n",
      "기관명 :  ['(의)성세의료재단 뉴성민병원', '의료법인성세의료재단 뉴 성민병원', '의료법인성세의료재단 뉴 성민병원'] \n",
      "\n",
      "인천광역시 계양구 계양문화로 20의 기관명을 확인해주시기 바랍니다\n",
      "기관명 :  ['인천세종병원', '메디플렉스 세종병원', '메디플렉스 세종병원'] \n",
      "\n",
      "경기도 부천시 호현로489번길 28의 기관명을 확인해주시기 바랍니다\n",
      "기관명 :  ['부천세종병원', '의료법인혜원의료재단세종병원', '의료법인혜원의료재단세종병원'] \n",
      "\n",
      "전라남도 영광군 영광읍 신남로 265의 기관명을 확인해주시기 바랍니다\n",
      "기관명 :  ['의료법인거명의료재단 영광기독병원', '의료법인 거명의료재단 영광기독병원', '의료법인 거명의료재단 영광기독병원'] \n",
      "\n"
     ]
    }
   ],
   "source": [
    "error_address = []\n",
    "latest_name = []\n",
    "\n",
    "address_list = target_data['주소'].tolist()\n",
    "\n",
    "for address in list(set(address_list)):\n",
    "    length = len(list(set(target_data[target_data['주소'] == address]['기관명'])))\n",
    "    if length != 1:\n",
    "        print('{}의 기관명을 확인해주시기 바랍니다'.format(address))\n",
    "        print('기관명 : ',target_data[target_data['주소'] == address]['기관명'].tolist(), '\\n')\n",
    "        error_address.append(address)\n",
    "        latest_name.append(target_data[target_data['주소'] == address]['기관명'].tolist()[0])\n",
    "\n",
    "correct_dict = {error : latest for error, latest in zip(error_address, latest_name)}"
   ]
  },
  {
   "cell_type": "code",
   "execution_count": 190,
   "metadata": {},
   "outputs": [
    {
     "name": "stderr",
     "output_type": "stream",
     "text": [
      "100%|██████████| 842/842 [00:00<00:00, 31024.16it/s]\n"
     ]
    }
   ],
   "source": [
    "for idx in tqdm(range(target_data.shape[0])):\n",
    "    if target_data.loc[idx, '주소'] in error_address:\n",
    "        target_data.loc[idx, '기관명'] = correct_dict[target_data.loc[idx, '주소']]"
   ]
  },
  {
   "cell_type": "code",
   "execution_count": 193,
   "metadata": {},
   "outputs": [
    {
     "data": {
      "text/html": [
       "<div>\n",
       "<style scoped>\n",
       "    .dataframe tbody tr th:only-of-type {\n",
       "        vertical-align: middle;\n",
       "    }\n",
       "\n",
       "    .dataframe tbody tr th {\n",
       "        vertical-align: top;\n",
       "    }\n",
       "\n",
       "    .dataframe thead th {\n",
       "        text-align: right;\n",
       "    }\n",
       "</style>\n",
       "<table border=\"1\" class=\"dataframe\">\n",
       "  <thead>\n",
       "    <tr style=\"text-align: right;\">\n",
       "      <th></th>\n",
       "      <th>기관명</th>\n",
       "      <th>주소</th>\n",
       "    </tr>\n",
       "  </thead>\n",
       "  <tbody>\n",
       "    <tr>\n",
       "      <th>128</th>\n",
       "      <td>의료법인 남촌의료재단 시화병원</td>\n",
       "      <td>경기도 시흥시 군자천로 381</td>\n",
       "    </tr>\n",
       "    <tr>\n",
       "      <th>412</th>\n",
       "      <td>의료법인 남촌의료재단 시화병원</td>\n",
       "      <td>경기도 시흥시 군자천로 381</td>\n",
       "    </tr>\n",
       "  </tbody>\n",
       "</table>\n",
       "</div>"
      ],
      "text/plain": [
       "                  기관명                주소\n",
       "128  의료법인 남촌의료재단 시화병원  경기도 시흥시 군자천로 381\n",
       "412  의료법인 남촌의료재단 시화병원  경기도 시흥시 군자천로 381"
      ]
     },
     "execution_count": 193,
     "metadata": {},
     "output_type": "execute_result"
    }
   ],
   "source": [
    "target_data[target_data['주소'] == '경기도 시흥시 군자천로 381'][['기관명', '주소']]"
   ]
  },
  {
   "cell_type": "markdown",
   "metadata": {},
   "source": [
    "## **동일한 기관의 주소가 연도별로 다른 경우 최근 기준으로 통일**"
   ]
  },
  {
   "cell_type": "code",
   "execution_count": 194,
   "metadata": {},
   "outputs": [
    {
     "name": "stdout",
     "output_type": "stream",
     "text": [
      "의료법인 인천사랑병원의 주소 정보를 확인해주시기 바랍니다\n",
      "주소 :  ['인천광역시 미추홀구 미추홀대로 726', '인천광역시 남구 미추홀대로 726', '인천광역시 남구 미추홀대로 726'] \n",
      "\n",
      "서울산보람병원의 주소 정보를 확인해주시기 바랍니다\n",
      "주소 :  ['울산광역시 울주군 삼남읍 중평로 53', '울산광역시 울주군 삼남면 중평로 53', '울산광역시 울주군 삼남면 중평로 53'] \n",
      "\n",
      "연세대학교 의과대학 용인세브란스병원의 주소 정보를 확인해주시기 바랍니다\n",
      "주소 :  ['경기도 용인시 기흥구 동백죽전대로 363', '경기도 용인시 기흥구 동백죽전대로 363', '경기도 용인시 처인구 금학로 225'] \n",
      "\n"
     ]
    }
   ],
   "source": [
    "error_name = []\n",
    "latest_address = []\n",
    "\n",
    "name_list = target_data['기관명'].tolist()\n",
    "\n",
    "for name in list(set(name_list)):\n",
    "    length = len(list(set(target_data[target_data['기관명'] == name]['주소'])))\n",
    "    if length != 1:\n",
    "        print('{}의 주소 정보를 확인해주시기 바랍니다'.format(name))\n",
    "        print('주소 : ', target_data[target_data['기관명'] == name]['주소'].tolist(), '\\n')\n",
    "        error_name.append(name)\n",
    "        latest_address.append(target_data[target_data['기관명'] == name]['주소'].tolist()[0])\n",
    "\n",
    "correct_dict = {error : latest for error, latest in zip(error_name, latest_address)}"
   ]
  },
  {
   "cell_type": "code",
   "execution_count": 199,
   "metadata": {},
   "outputs": [
    {
     "name": "stderr",
     "output_type": "stream",
     "text": [
      "100%|██████████| 842/842 [00:00<00:00, 52457.61it/s]\n"
     ]
    }
   ],
   "source": [
    "for idx in tqdm(range(target_data.shape[0])):\n",
    "    if target_data.loc[idx, '기관명'] in error_name:\n",
    "        target_data.loc[idx, '주소'] = correct_dict[target_data.loc[idx, '기관명']]"
   ]
  },
  {
   "cell_type": "code",
   "execution_count": 201,
   "metadata": {},
   "outputs": [
    {
     "data": {
      "text/html": [
       "<div>\n",
       "<style scoped>\n",
       "    .dataframe tbody tr th:only-of-type {\n",
       "        vertical-align: middle;\n",
       "    }\n",
       "\n",
       "    .dataframe tbody tr th {\n",
       "        vertical-align: top;\n",
       "    }\n",
       "\n",
       "    .dataframe thead th {\n",
       "        text-align: right;\n",
       "    }\n",
       "</style>\n",
       "<table border=\"1\" class=\"dataframe\">\n",
       "  <thead>\n",
       "    <tr style=\"text-align: right;\">\n",
       "      <th></th>\n",
       "      <th>기관명</th>\n",
       "      <th>주소</th>\n",
       "    </tr>\n",
       "  </thead>\n",
       "  <tbody>\n",
       "    <tr>\n",
       "      <th>112</th>\n",
       "      <td>연세대학교 의과대학 용인세브란스병원</td>\n",
       "      <td>경기도 용인시 기흥구 동백죽전대로 363</td>\n",
       "    </tr>\n",
       "    <tr>\n",
       "      <th>395</th>\n",
       "      <td>연세대학교 의과대학 용인세브란스병원</td>\n",
       "      <td>경기도 용인시 기흥구 동백죽전대로 363</td>\n",
       "    </tr>\n",
       "    <tr>\n",
       "      <th>673</th>\n",
       "      <td>연세대학교 의과대학 용인세브란스병원</td>\n",
       "      <td>경기도 용인시 기흥구 동백죽전대로 363</td>\n",
       "    </tr>\n",
       "  </tbody>\n",
       "</table>\n",
       "</div>"
      ],
      "text/plain": [
       "                     기관명                      주소\n",
       "112  연세대학교 의과대학 용인세브란스병원  경기도 용인시 기흥구 동백죽전대로 363\n",
       "395  연세대학교 의과대학 용인세브란스병원  경기도 용인시 기흥구 동백죽전대로 363\n",
       "673  연세대학교 의과대학 용인세브란스병원  경기도 용인시 기흥구 동백죽전대로 363"
      ]
     },
     "execution_count": 201,
     "metadata": {},
     "output_type": "execute_result"
    }
   ],
   "source": [
    "target_data[target_data['기관명'] == '연세대학교 의과대학 용인세브란스병원'][['기관명', '주소']]"
   ]
  },
  {
   "cell_type": "code",
   "execution_count": 203,
   "metadata": {},
   "outputs": [],
   "source": [
    "target_data.to_excel('./target_data.xlsx')"
   ]
  },
  {
   "cell_type": "markdown",
   "metadata": {},
   "source": [
    "## **그 외 데이터 수정**\n",
    "* 경우 ① : 2021년에 처음 종합병원으로 지정된 경우 - 수정 X\n",
    "* 경우 ② : 2021 - 2019년 동안 주소와 기관명이 모두 바뀐 경우 - Excel로 직접 데이터 확인 후 개별적으로 변경"
   ]
  },
  {
   "cell_type": "code",
   "execution_count": 202,
   "metadata": {},
   "outputs": [
    {
     "name": "stdout",
     "output_type": "stream",
     "text": [
      "창원한마음병원의 기관명을 다시 한번 확인해주시기 바랍니다\n",
      "의료법인 명인의료재단 화홍병원의 기관명을 다시 한번 확인해주시기 바랍니다\n",
      "세종충남대학교병원의 기관명을 다시 한번 확인해주시기 바랍니다\n",
      "빛고을전남대학교병원의 기관명을 다시 한번 확인해주시기 바랍니다\n",
      "의료법인 남촌의료재단 시흥시화병원의 기관명을 다시 한번 확인해주시기 바랍니다\n",
      "학교법인 을지학원 의정부을지대학교병원의 기관명을 다시 한번 확인해주시기 바랍니다\n",
      "의료법인 행도의료재단 해동병원의 기관명을 다시 한번 확인해주시기 바랍니다\n"
     ]
    }
   ],
   "source": [
    "name_list = target_data['기관명'].tolist()\n",
    "error_name = []\n",
    "\n",
    "for name in list(set(name_list)):\n",
    "    if name_list.count(name) == 1:\n",
    "        print('{}의 기관명을 다시 한번 확인해주시기 바랍니다'.format(name))\n",
    "        error_name.append(name)"
   ]
  },
  {
   "cell_type": "code",
   "execution_count": 204,
   "metadata": {},
   "outputs": [
    {
     "name": "stderr",
     "output_type": "stream",
     "text": [
      "C:\\Users\\nuno3\\AppData\\Local\\Temp\\ipykernel_14908\\2212188480.py:5: SettingWithCopyWarning: \n",
      "A value is trying to be set on a copy of a slice from a DataFrame.\n",
      "Try using .loc[row_indexer,col_indexer] = value instead\n",
      "\n",
      "See the caveats in the documentation: https://pandas.pydata.org/pandas-docs/stable/user_guide/indexing.html#returning-a-view-versus-a-copy\n",
      "  target_data.replace({'기관명' : {'의료법인 한마음국제의료재단 한마음창원병원' : '창원한마음병원'},\n",
      "C:\\Users\\nuno3\\AppData\\Local\\Temp\\ipykernel_14908\\2212188480.py:10: SettingWithCopyWarning: \n",
      "A value is trying to be set on a copy of a slice from a DataFrame.\n",
      "Try using .loc[row_indexer,col_indexer] = value instead\n",
      "\n",
      "See the caveats in the documentation: https://pandas.pydata.org/pandas-docs/stable/user_guide/indexing.html#returning-a-view-versus-a-copy\n",
      "  target_data.replace({'기관명' : {'의료법인 남촌의료재단 시흥시화병원' : '의료법인 남촌의료재단 시화병원'},\n"
     ]
    }
   ],
   "source": [
    "# 창원한마음병원과 의료법인 남촌의료재단 시흥시화병원을 제외하면 \n",
    "# 모두 경우 ②에 해당하여 수정할 필요가 없음\n",
    "\n",
    "# 창원한마음병원 수정\n",
    "target_data.replace({'기관명' : {'의료법인 한마음국제의료재단 한마음창원병원' : '창원한마음병원'},\n",
    "                     '주소' : {'경상남도 창원시 성산구 원이대로682번길 21' : '경상남도 창원시 의창구 용동로57번길 8'}},\n",
    "                     inplace = True)\n",
    "\n",
    "# 의료법인 남촌의료재단 시흥시화병원\n",
    "target_data.replace({'기관명' : {'의료법인 남촌의료재단 시흥시화병원' : '의료법인 남촌의료재단 시화병원'},\n",
    "                     '주소' : {'경기도 시흥시 옥구천서로 337' : '경기도 시흥시 군자천로 381'}},\n",
    "                     inplace = True)"
   ]
  },
  {
   "cell_type": "code",
   "execution_count": 205,
   "metadata": {},
   "outputs": [
    {
     "data": {
      "text/html": [
       "<div>\n",
       "<style scoped>\n",
       "    .dataframe tbody tr th:only-of-type {\n",
       "        vertical-align: middle;\n",
       "    }\n",
       "\n",
       "    .dataframe tbody tr th {\n",
       "        vertical-align: top;\n",
       "    }\n",
       "\n",
       "    .dataframe thead th {\n",
       "        text-align: right;\n",
       "    }\n",
       "</style>\n",
       "<table border=\"1\" class=\"dataframe\">\n",
       "  <thead>\n",
       "    <tr style=\"text-align: right;\">\n",
       "      <th></th>\n",
       "      <th>기관명</th>\n",
       "      <th>주소</th>\n",
       "    </tr>\n",
       "  </thead>\n",
       "  <tbody>\n",
       "    <tr>\n",
       "      <th>128</th>\n",
       "      <td>의료법인 남촌의료재단 시화병원</td>\n",
       "      <td>경기도 시흥시 군자천로 381</td>\n",
       "    </tr>\n",
       "    <tr>\n",
       "      <th>412</th>\n",
       "      <td>의료법인 남촌의료재단 시화병원</td>\n",
       "      <td>경기도 시흥시 군자천로 381</td>\n",
       "    </tr>\n",
       "    <tr>\n",
       "      <th>690</th>\n",
       "      <td>의료법인 남촌의료재단 시화병원</td>\n",
       "      <td>경기도 시흥시 군자천로 381</td>\n",
       "    </tr>\n",
       "  </tbody>\n",
       "</table>\n",
       "</div>"
      ],
      "text/plain": [
       "                  기관명                주소\n",
       "128  의료법인 남촌의료재단 시화병원  경기도 시흥시 군자천로 381\n",
       "412  의료법인 남촌의료재단 시화병원  경기도 시흥시 군자천로 381\n",
       "690  의료법인 남촌의료재단 시화병원  경기도 시흥시 군자천로 381"
      ]
     },
     "execution_count": 205,
     "metadata": {},
     "output_type": "execute_result"
    }
   ],
   "source": [
    "target_data[target_data['기관명'] == '의료법인 남촌의료재단 시화병원'][['기관명', '주소']]"
   ]
  },
  {
   "cell_type": "code",
   "execution_count": 206,
   "metadata": {},
   "outputs": [],
   "source": [
    "target_data.to_excel('./target_data.xlsx')"
   ]
  },
  {
   "cell_type": "markdown",
   "metadata": {},
   "source": [
    "# **추가 데이터 수집 (기관별 위도 및 경도)**"
   ]
  },
  {
   "cell_type": "markdown",
   "metadata": {},
   "source": [
    "## **각 병원의 경도 및 위도 데이터 확보하기**\n",
    "* 국토교통부 공간정보산업진흥원의 지오코딩 API를 활용하여 각 병원의 위도 및 경도 데이터 확보\n",
    "* API를 활용하는 과정에서 주소 데이터가 잘못된 경우(API가 위도 및 경도를 모두 0으로 반환)가 발견되어 도로명 주소를 수정함\n",
    "    * 예제\n",
    "        * 잘못된 주소 : 인천광역시 남구 미추홀대로 726\n",
    "        * 실제 주소 : 인천광역시 미추홀구 미추홀대로 726"
   ]
  },
  {
   "cell_type": "code",
   "execution_count": 212,
   "metadata": {},
   "outputs": [
    {
     "name": "stderr",
     "output_type": "stream",
     "text": [
      "100%|██████████| 842/842 [00:55<00:00, 15.24it/s]\n"
     ]
    },
    {
     "data": {
      "text/plain": [
       "['서울특별시 성북구 인촌로 73', '인천광역시 남구 독배로 503', '울산광역시 동구 방어진순환도로 877']"
      ]
     },
     "execution_count": 212,
     "metadata": {},
     "output_type": "execute_result"
    }
   ],
   "source": [
    "url = 'http://api.vworld.kr/req/address?'\n",
    "params = 'service=address&request=getcoord&version=2.0&crs=epsg:4326&refine=true&simple=false&format=json&type='\n",
    "road_type = 'ROAD' #도로명 주소\n",
    "address = '&address='\n",
    "keys = '&key='\n",
    "primary_key = 'your_key' # 공간정보산업진흥원 API키를 발급받아 입력\n",
    "\n",
    "def request_geo(road):\n",
    "    page = requests.get(url+params+road_type+address+road+keys+primary_key)\n",
    "    json_data = page.json()\n",
    "    if json_data['response']['status'] == 'OK':\n",
    "        x = json_data['response']['result']['point']['x']\n",
    "        y = json_data['response']['result']['point']['y']\n",
    "        return x, y\n",
    "    else:\n",
    "        x = 0\n",
    "        y = 0\n",
    "        return x, y\n",
    "\n",
    "error_address = []\n",
    "\n",
    "for idx in tqdm(range(target_data.shape[0])):\n",
    "    x, y  = request_geo(target_data.loc[idx, '주소'])\n",
    "    if (x == 0) and (y == 0):\n",
    "        error_address.append(target_data.loc[idx, '주소'])\n",
    "\n",
    "error_address = list(set(error_address))\n",
    "error_address"
   ]
  },
  {
   "cell_type": "code",
   "execution_count": 214,
   "metadata": {},
   "outputs": [],
   "source": [
    "address_fix = {'울산광역시 동구 방어진순환도로 877' : '울산광역시 동구 대학병원로 25',\n",
    "               '서울특별시 성북구 인촌로 73' : '서울특별시 성북구 고려대로 73',\n",
    "               '인천광역시 남구 독배로 503' : '인천광역시 미추홀구 독배로 503'}\n",
    "\n",
    "for idx in range(target_data.shape[0]):\n",
    "    if target_data.loc[idx, '주소'] in error_address:\n",
    "        target_data.loc[idx, '주소'] = address_fix[target_data.loc[idx, '주소']]"
   ]
  },
  {
   "cell_type": "code",
   "execution_count": 215,
   "metadata": {},
   "outputs": [
    {
     "data": {
      "text/html": [
       "<div>\n",
       "<style scoped>\n",
       "    .dataframe tbody tr th:only-of-type {\n",
       "        vertical-align: middle;\n",
       "    }\n",
       "\n",
       "    .dataframe tbody tr th {\n",
       "        vertical-align: top;\n",
       "    }\n",
       "\n",
       "    .dataframe thead th {\n",
       "        text-align: right;\n",
       "    }\n",
       "</style>\n",
       "<table border=\"1\" class=\"dataframe\">\n",
       "  <thead>\n",
       "    <tr style=\"text-align: right;\">\n",
       "      <th></th>\n",
       "      <th>연도</th>\n",
       "      <th>기관명</th>\n",
       "      <th>주소</th>\n",
       "    </tr>\n",
       "  </thead>\n",
       "  <tbody>\n",
       "    <tr>\n",
       "      <th>258</th>\n",
       "      <td>2021</td>\n",
       "      <td>학교법인 울산공업학원 울산대학교병원</td>\n",
       "      <td>울산광역시 동구 대학병원로 25</td>\n",
       "    </tr>\n",
       "    <tr>\n",
       "      <th>541</th>\n",
       "      <td>2020</td>\n",
       "      <td>학교법인 울산공업학원 울산대학교병원</td>\n",
       "      <td>울산광역시 동구 대학병원로 25</td>\n",
       "    </tr>\n",
       "    <tr>\n",
       "      <th>816</th>\n",
       "      <td>2019</td>\n",
       "      <td>학교법인 울산공업학원 울산대학교병원</td>\n",
       "      <td>울산광역시 동구 대학병원로 25</td>\n",
       "    </tr>\n",
       "  </tbody>\n",
       "</table>\n",
       "</div>"
      ],
      "text/plain": [
       "       연도                  기관명                 주소\n",
       "258  2021  학교법인 울산공업학원 울산대학교병원  울산광역시 동구 대학병원로 25\n",
       "541  2020  학교법인 울산공업학원 울산대학교병원  울산광역시 동구 대학병원로 25\n",
       "816  2019  학교법인 울산공업학원 울산대학교병원  울산광역시 동구 대학병원로 25"
      ]
     },
     "execution_count": 215,
     "metadata": {},
     "output_type": "execute_result"
    }
   ],
   "source": [
    "target_data[target_data['주소'] == '울산광역시 동구 대학병원로 25'][['연도', '기관명', '주소']]"
   ]
  },
  {
   "cell_type": "code",
   "execution_count": 218,
   "metadata": {},
   "outputs": [
    {
     "name": "stderr",
     "output_type": "stream",
     "text": [
      "100%|██████████| 842/842 [00:49<00:00, 16.85it/s]"
     ]
    },
    {
     "name": "stdout",
     "output_type": "stream",
     "text": [
      "정상적으로 위도 및 경도값이 반환되었습니다\n"
     ]
    },
    {
     "name": "stderr",
     "output_type": "stream",
     "text": [
      "\n"
     ]
    }
   ],
   "source": [
    "longitude = []\n",
    "latitude = []\n",
    "error_condition = 0\n",
    "\n",
    "for idx in tqdm(range(target_data.shape[0])):\n",
    "    x, y  = request_geo(target_data.loc[idx, '주소'])\n",
    "    longitude.append(float(x))\n",
    "    latitude.append(float(y))\n",
    "    if (x == 0) and (y == 0):\n",
    "        print('오류 발생 : {}'.format(target_data.loc[idx, '주소']))\n",
    "        error_condition += 1\n",
    "\n",
    "if error_condition == 0:\n",
    "    print('정상적으로 위도 및 경도값이 반환되었습니다')\n",
    "else:\n",
    "    print('위치 정보를 확인해주시기 바랍니다.')"
   ]
  },
  {
   "cell_type": "code",
   "execution_count": 220,
   "metadata": {},
   "outputs": [
    {
     "name": "stderr",
     "output_type": "stream",
     "text": [
      "C:\\Users\\nuno3\\AppData\\Local\\Temp\\ipykernel_14908\\3248646445.py:1: SettingWithCopyWarning: \n",
      "A value is trying to be set on a copy of a slice from a DataFrame.\n",
      "Try using .loc[row_indexer,col_indexer] = value instead\n",
      "\n",
      "See the caveats in the documentation: https://pandas.pydata.org/pandas-docs/stable/user_guide/indexing.html#returning-a-view-versus-a-copy\n",
      "  target_data['위도'] = latitude\n",
      "C:\\Users\\nuno3\\AppData\\Local\\Temp\\ipykernel_14908\\3248646445.py:2: SettingWithCopyWarning: \n",
      "A value is trying to be set on a copy of a slice from a DataFrame.\n",
      "Try using .loc[row_indexer,col_indexer] = value instead\n",
      "\n",
      "See the caveats in the documentation: https://pandas.pydata.org/pandas-docs/stable/user_guide/indexing.html#returning-a-view-versus-a-copy\n",
      "  target_data['경도'] = longitude\n"
     ]
    }
   ],
   "source": [
    "target_data['위도'] = latitude\n",
    "target_data['경도'] = longitude"
   ]
  },
  {
   "cell_type": "code",
   "execution_count": 222,
   "metadata": {},
   "outputs": [
    {
     "data": {
      "text/html": [
       "<div>\n",
       "<style scoped>\n",
       "    .dataframe tbody tr th:only-of-type {\n",
       "        vertical-align: middle;\n",
       "    }\n",
       "\n",
       "    .dataframe tbody tr th {\n",
       "        vertical-align: top;\n",
       "    }\n",
       "\n",
       "    .dataframe thead th {\n",
       "        text-align: right;\n",
       "    }\n",
       "</style>\n",
       "<table border=\"1\" class=\"dataframe\">\n",
       "  <thead>\n",
       "    <tr style=\"text-align: right;\">\n",
       "      <th></th>\n",
       "      <th>연도</th>\n",
       "      <th>기관명</th>\n",
       "      <th>병상수</th>\n",
       "      <th>종별</th>\n",
       "      <th>설립형태</th>\n",
       "      <th>주소</th>\n",
       "      <th>Ⅰ.의료수익</th>\n",
       "      <th>Ⅰ-1.입원수익</th>\n",
       "      <th>Ⅰ-2.외래수익</th>\n",
       "      <th>Ⅰ-3.기타의료수익</th>\n",
       "      <th>...</th>\n",
       "      <th>Ⅴ-14.재해손실</th>\n",
       "      <th>Ⅴ-15.기타의료외비용</th>\n",
       "      <th>Ⅵ.법인세차감전순이익(순손실)</th>\n",
       "      <th>Ⅶ.법인세비용(소득세)</th>\n",
       "      <th>Ⅷ.고유목적사업준비금설정전당기순이익</th>\n",
       "      <th>Ⅸ.고유목적사업준비금전입액¹</th>\n",
       "      <th>Ⅹ.고유목적사업준비금환입액¹</th>\n",
       "      <th>당기순이익(순손실)</th>\n",
       "      <th>위도</th>\n",
       "      <th>경도</th>\n",
       "    </tr>\n",
       "  </thead>\n",
       "  <tbody>\n",
       "    <tr>\n",
       "      <th>0</th>\n",
       "      <td>2021</td>\n",
       "      <td>(의)나사렛의료재단 나사렛국제병원</td>\n",
       "      <td>301</td>\n",
       "      <td>종합병원</td>\n",
       "      <td>의료법인</td>\n",
       "      <td>인천광역시 연수구 먼우금로 98</td>\n",
       "      <td>79081905450</td>\n",
       "      <td>44082709774</td>\n",
       "      <td>24175326743</td>\n",
       "      <td>10823868933</td>\n",
       "      <td>...</td>\n",
       "      <td>0</td>\n",
       "      <td>99189330</td>\n",
       "      <td>14058376419</td>\n",
       "      <td>2504797573</td>\n",
       "      <td>11553578846</td>\n",
       "      <td>11000000000</td>\n",
       "      <td>2117258751</td>\n",
       "      <td>2670837597</td>\n",
       "      <td>37.407889</td>\n",
       "      <td>126.670475</td>\n",
       "    </tr>\n",
       "    <tr>\n",
       "      <th>1</th>\n",
       "      <td>2021</td>\n",
       "      <td>(의)성세의료재단 뉴성민병원</td>\n",
       "      <td>250</td>\n",
       "      <td>종합병원</td>\n",
       "      <td>의료법인</td>\n",
       "      <td>인천광역시 서구 칠천왕로33번길 17</td>\n",
       "      <td>36309457028</td>\n",
       "      <td>25767334917</td>\n",
       "      <td>7967048011</td>\n",
       "      <td>2575074100</td>\n",
       "      <td>...</td>\n",
       "      <td>0</td>\n",
       "      <td>46162000</td>\n",
       "      <td>-227529042</td>\n",
       "      <td>-48283340</td>\n",
       "      <td>-179245702</td>\n",
       "      <td>0</td>\n",
       "      <td>0</td>\n",
       "      <td>-179245702</td>\n",
       "      <td>37.509161</td>\n",
       "      <td>126.669750</td>\n",
       "    </tr>\n",
       "    <tr>\n",
       "      <th>2</th>\n",
       "      <td>2021</td>\n",
       "      <td>(의)영문의료재단 다보스병원</td>\n",
       "      <td>183</td>\n",
       "      <td>종합병원</td>\n",
       "      <td>의료법인</td>\n",
       "      <td>경기도 용인시 처인구 백옥대로1082번길 18</td>\n",
       "      <td>53456662441</td>\n",
       "      <td>32946496329</td>\n",
       "      <td>16517728346</td>\n",
       "      <td>3992437766</td>\n",
       "      <td>...</td>\n",
       "      <td>0</td>\n",
       "      <td>0</td>\n",
       "      <td>6120922459</td>\n",
       "      <td>368436435</td>\n",
       "      <td>5752486024</td>\n",
       "      <td>3610000000</td>\n",
       "      <td>475661687</td>\n",
       "      <td>2618147711</td>\n",
       "      <td>37.231536</td>\n",
       "      <td>127.211423</td>\n",
       "    </tr>\n",
       "    <tr>\n",
       "      <th>3</th>\n",
       "      <td>2021</td>\n",
       "      <td>(재)미리내천주성삼성직수도회천주성삼병원</td>\n",
       "      <td>264</td>\n",
       "      <td>종합병원</td>\n",
       "      <td>재단법인</td>\n",
       "      <td>대구광역시 수성구 달구벌대로 3190</td>\n",
       "      <td>45828954815</td>\n",
       "      <td>30244739757</td>\n",
       "      <td>12115090160</td>\n",
       "      <td>3469124898</td>\n",
       "      <td>...</td>\n",
       "      <td>0</td>\n",
       "      <td>1050000</td>\n",
       "      <td>3821948169</td>\n",
       "      <td>210114820</td>\n",
       "      <td>3611833349</td>\n",
       "      <td>0</td>\n",
       "      <td>0</td>\n",
       "      <td>3611833349</td>\n",
       "      <td>35.840224</td>\n",
       "      <td>128.705721</td>\n",
       "    </tr>\n",
       "    <tr>\n",
       "      <th>4</th>\n",
       "      <td>2021</td>\n",
       "      <td>가톨릭관동대학교 국제성모병원</td>\n",
       "      <td>618</td>\n",
       "      <td>종합병원</td>\n",
       "      <td>학교법인</td>\n",
       "      <td>인천광역시 서구 심곡로100번길 25</td>\n",
       "      <td>185298525567</td>\n",
       "      <td>116069463139</td>\n",
       "      <td>59426317322</td>\n",
       "      <td>9802745106</td>\n",
       "      <td>...</td>\n",
       "      <td>0</td>\n",
       "      <td>485032103</td>\n",
       "      <td>7826789783</td>\n",
       "      <td>821455025</td>\n",
       "      <td>7005334758</td>\n",
       "      <td>0</td>\n",
       "      <td>0</td>\n",
       "      <td>7005334758</td>\n",
       "      <td>37.542331</td>\n",
       "      <td>126.683608</td>\n",
       "    </tr>\n",
       "  </tbody>\n",
       "</table>\n",
       "<p>5 rows × 59 columns</p>\n",
       "</div>"
      ],
      "text/plain": [
       "     연도                    기관명  병상수    종별  설립형태                         주소  \\\n",
       "0  2021     (의)나사렛의료재단 나사렛국제병원  301  종합병원  의료법인          인천광역시 연수구 먼우금로 98   \n",
       "1  2021        (의)성세의료재단 뉴성민병원  250  종합병원  의료법인       인천광역시 서구 칠천왕로33번길 17   \n",
       "2  2021        (의)영문의료재단 다보스병원  183  종합병원  의료법인  경기도 용인시 처인구 백옥대로1082번길 18   \n",
       "3  2021  (재)미리내천주성삼성직수도회천주성삼병원  264  종합병원  재단법인       대구광역시 수성구 달구벌대로 3190   \n",
       "4  2021        가톨릭관동대학교 국제성모병원  618  종합병원  학교법인       인천광역시 서구 심곡로100번길 25   \n",
       "\n",
       "         Ⅰ.의료수익      Ⅰ-1.입원수익     Ⅰ-2.외래수익   Ⅰ-3.기타의료수익  ...  Ⅴ-14.재해손실  \\\n",
       "0   79081905450   44082709774  24175326743  10823868933  ...          0   \n",
       "1   36309457028   25767334917   7967048011   2575074100  ...          0   \n",
       "2   53456662441   32946496329  16517728346   3992437766  ...          0   \n",
       "3   45828954815   30244739757  12115090160   3469124898  ...          0   \n",
       "4  185298525567  116069463139  59426317322   9802745106  ...          0   \n",
       "\n",
       "   Ⅴ-15.기타의료외비용  Ⅵ.법인세차감전순이익(순손실)  Ⅶ.법인세비용(소득세)  Ⅷ.고유목적사업준비금설정전당기순이익  \\\n",
       "0      99189330       14058376419    2504797573          11553578846   \n",
       "1      46162000        -227529042     -48283340           -179245702   \n",
       "2             0        6120922459     368436435           5752486024   \n",
       "3       1050000        3821948169     210114820           3611833349   \n",
       "4     485032103        7826789783     821455025           7005334758   \n",
       "\n",
       "   Ⅸ.고유목적사업준비금전입액¹  Ⅹ.고유목적사업준비금환입액¹  당기순이익(순손실)         위도          경도  \n",
       "0      11000000000       2117258751  2670837597  37.407889  126.670475  \n",
       "1                0                0  -179245702  37.509161  126.669750  \n",
       "2       3610000000        475661687  2618147711  37.231536  127.211423  \n",
       "3                0                0  3611833349  35.840224  128.705721  \n",
       "4                0                0  7005334758  37.542331  126.683608  \n",
       "\n",
       "[5 rows x 59 columns]"
      ]
     },
     "execution_count": 222,
     "metadata": {},
     "output_type": "execute_result"
    }
   ],
   "source": [
    "target_data.head()"
   ]
  },
  {
   "cell_type": "markdown",
   "metadata": {},
   "source": [
    "# **데이터 저장**"
   ]
  },
  {
   "cell_type": "code",
   "execution_count": 223,
   "metadata": {},
   "outputs": [],
   "source": [
    "target_data.to_excel('./final_data.xlsx')"
   ]
  }
 ],
 "metadata": {
  "kernelspec": {
   "display_name": "cv",
   "language": "python",
   "name": "python3"
  },
  "language_info": {
   "codemirror_mode": {
    "name": "ipython",
    "version": 3
   },
   "file_extension": ".py",
   "mimetype": "text/x-python",
   "name": "python",
   "nbconvert_exporter": "python",
   "pygments_lexer": "ipython3",
   "version": "3.8.16"
  },
  "orig_nbformat": 4
 },
 "nbformat": 4,
 "nbformat_minor": 2
}
